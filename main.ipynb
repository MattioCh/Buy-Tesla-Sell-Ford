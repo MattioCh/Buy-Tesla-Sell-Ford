{
 "cells": [
  {
   "cell_type": "code",
   "execution_count": 34,
   "id": "chief-apache",
   "metadata": {},
   "outputs": [],
   "source": [
    "import numpy as np\n",
    "import pandas as pd\n",
    "from transformers import AutoTokenizer, AutoModelForMaskedLM,BertTokenizer, BertModel\n",
    "from transformers import FillMaskPipeline\n",
    "from tqdm import tqdm\n",
    "from scipy.spatial.distance import cosine\n",
    "import matplotlib\n",
    "import torch\n",
    "import matplotlib.pyplot as plt\n",
    "from matplotlib.pyplot import cm\n",
    "from sklearn.linear_model import LinearRegression\n",
    "from sklearn.metrics import r2_score\n",
    "import statsmodels.api as sm\n",
    "import joblib\n",
    "import tensorflow as tf\n",
    "import tensorflow_hub as hub\n",
    "import numpy as np\n",
    "import os\n",
    "import pandas as pd\n",
    "import re\n",
    "import seaborn as sns\n",
    "import scipy.stats as st\n",
    "from matplotlib import colors\n",
    "import researchpy as rp"
   ]
  },
  {
   "cell_type": "code",
   "execution_count": 2,
   "id": "hearing-array",
   "metadata": {},
   "outputs": [
    {
     "name": "stderr",
     "output_type": "stream",
     "text": [
      "Some weights of the model checkpoint at bert-base-uncased were not used when initializing BertForMaskedLM: ['cls.seq_relationship.weight', 'cls.seq_relationship.bias']\n",
      "- This IS expected if you are initializing BertForMaskedLM from the checkpoint of a model trained on another task or with another architecture (e.g. initializing a BertForSequenceClassification model from a BertForPreTraining model).\n",
      "- This IS NOT expected if you are initializing BertForMaskedLM from the checkpoint of a model that you expect to be exactly identical (initializing a BertForSequenceClassification model from a BertForSequenceClassification model).\n",
      "Some weights of the model checkpoint at yiyanghkust/finbert-pretrain were not used when initializing BertForMaskedLM: ['cls.seq_relationship.weight', 'cls.seq_relationship.bias']\n",
      "- This IS expected if you are initializing BertForMaskedLM from the checkpoint of a model trained on another task or with another architecture (e.g. initializing a BertForSequenceClassification model from a BertForPreTraining model).\n",
      "- This IS NOT expected if you are initializing BertForMaskedLM from the checkpoint of a model that you expect to be exactly identical (initializing a BertForSequenceClassification model from a BertForSequenceClassification model).\n"
     ]
    }
   ],
   "source": [
    "bert_model = AutoModelForMaskedLM.from_pretrained(\"bert-base-uncased\",\n",
    "           output_hidden_states = True)\n",
    "bert_tokenizer = AutoTokenizer.from_pretrained(\"bert-base-uncased\")\n",
    "\n",
    "fin_model = AutoModelForMaskedLM.from_pretrained(\"yiyanghkust/finbert-pretrain\", output_hidden_states = True)\n",
    "fin_tokenizer = AutoTokenizer.from_pretrained(\"yiyanghkust/finbert-pretrain\")"
   ]
  },
  {
   "cell_type": "code",
   "execution_count": 3,
   "id": "overall-drink",
   "metadata": {},
   "outputs": [],
   "source": [
    "bert_pipe = FillMaskPipeline(bert_model,bert_tokenizer)\n",
    "fin_pipe = FillMaskPipeline(fin_model,fin_tokenizer)"
   ]
  },
  {
   "cell_type": "code",
   "execution_count": 80,
   "id": "respected-revelation",
   "metadata": {},
   "outputs": [],
   "source": [
    "def get_prob(pipe , name):\n",
    "    res = pipe(f'We should [MASK] the {name} stock.' , targets=[\"buy\", \"sell\"])\n",
    "    output = []\n",
    "    for i in res:\n",
    "        output.append(i[\"score\"])\n",
    "    return output"
   ]
  },
  {
   "cell_type": "code",
   "execution_count": 133,
   "id": "copyrighted-muscle",
   "metadata": {},
   "outputs": [],
   "source": [
    "df = pd.read_excel(\"russell3000_ticker_GIC.xlsx\")\n",
    "df1 = df.copy().dropna()\n",
    "symbol = df1[\"Symbol\"].to_list()\n",
    "name = df1[\"Description\"].to_list()\n",
    "sector = df1[\"gsector\"].to_list()\n",
    "sector_set = list(set(sector))\n",
    "sec_map = [\"Energy\",\"Materials\",\"Industrials\",\"Consumer Discretionary\",\"Consumer Staples\",\"\tHealth Care\",\"Financials\",\"Information Technology\",\"Communication Services\",\"Utilities\",\"Real Estate\"]"
   ]
  },
  {
   "cell_type": "code",
   "execution_count": 106,
   "id": "gross-target",
   "metadata": {},
   "outputs": [
    {
     "name": "stderr",
     "output_type": "stream",
     "text": [
      "100%|██████████| 2650/2650 [05:41<00:00,  7.75it/s]\n"
     ]
    }
   ],
   "source": [
    "## with name\n",
    "name_bert_output = []\n",
    "name_fin_output = []\n",
    "for i , e in enumerate(tqdm(name)):\n",
    "    name_bert_output.append(get_prob(bert_pipe, e))\n",
    "    name_fin_output.append(get_prob(fin_pipe, e))"
   ]
  },
  {
   "cell_type": "code",
   "execution_count": 108,
   "id": "digital-estate",
   "metadata": {},
   "outputs": [],
   "source": [
    "name_bert_buy = [i[0] for i in name_bert_output]\n",
    "name_bert_sell = [i[1] for i in name_bert_output]\n",
    "name_fin_buy = [i[0] for i in name_fin_output]\n",
    "name_fin_sell = [i[1] for i in name_fin_output]\n",
    "\n",
    "name_bert_res = np.divide(np.array(name_bert_buy), np.add(name_bert_sell,name_bert_buy))\n",
    "name_fin_res = np.divide(np.array(name_fin_buy), np.add(name_fin_sell,name_fin_buy))"
   ]
  },
  {
   "cell_type": "code",
   "execution_count": 109,
   "id": "fatty-holocaust",
   "metadata": {},
   "outputs": [],
   "source": [
    "sec = pd.get_dummies(sector)\n",
    "sector_vec = sec.T.to_numpy().reshape(11,2650)"
   ]
  },
  {
   "cell_type": "code",
   "execution_count": 110,
   "id": "olympic-cable",
   "metadata": {},
   "outputs": [
    {
     "name": "stderr",
     "output_type": "stream",
     "text": [
      "100%|██████████| 11/11 [00:00<00:00, 570.96it/s]\n",
      "100%|██████████| 11/11 [00:00<00:00, 700.27it/s]\n"
     ]
    }
   ],
   "source": [
    "def get_p_value(model, sector_vec):\n",
    "    output = []\n",
    "    for i in tqdm(sector_vec):\n",
    "        X = sm.add_constant(i)\n",
    "#         Y1 = [j[1] for j in model]\n",
    "        p0 = sm.OLS(model, X).fit()\n",
    "#         p1 = sm.OLS(Y1, X).fit().f_pvalue\n",
    "        output.append(p0)\n",
    "    return output\n",
    "\n",
    "name_bert_p = get_p_value(name_bert_buy, sector_vec)\n",
    "name_fin_p = get_p_value(name_fin_buy, sector_vec)"
   ]
  },
  {
   "cell_type": "code",
   "execution_count": 112,
   "id": "generic-morning",
   "metadata": {},
   "outputs": [],
   "source": [
    "sec_index_temp = {}\n",
    "\n",
    "for i , el in enumerate(sector):\n",
    "    if el not in sec_index_temp.keys():\n",
    "        sec_index_temp[el] = [i]\n",
    "    else:\n",
    "        sec_index_temp[el].append(i)\n",
    "sec_index = []\n",
    "for i in sec_index_temp.keys():\n",
    "    sec_index.append(sec_index_temp[i])\n",
    "    \n",
    "\n",
    "def get_bias(p_model):\n",
    "    buy_bias = {}\n",
    "    for i , p in enumerate(p_model):\n",
    "        if p.f_pvalue < 0.05:\n",
    "            buy_bias[\"*\"+sec_map[i]+\"*\"] = p.params[1]\n",
    "        else:\n",
    "            buy_bias[sec_map[i]] = p.params[1]\n",
    "    return {\"buy\":buy_bias}\n"
   ]
  },
  {
   "cell_type": "code",
   "execution_count": 115,
   "id": "narrative-default",
   "metadata": {},
   "outputs": [
    {
     "data": {
      "image/png": "[encoded data removed]",
      "text/plain": [
       "<Figure size 432x288 with 2 Axes>"
      ]
     },
     "metadata": {
      "needs_background": "light"
     },
     "output_type": "display_data"
    },
    {
     "data": {
      "text/plain": [
       "{'buy': {'energy': 0.0014802360637915944,\n",
       "  '*material*': 0.022192146238281318,\n",
       "  'industrial': 0.004266615649704781,\n",
       "  'non-consumer': 0.001653759724440641,\n",
       "  'necessities': 0.007295206721126005,\n",
       "  'health': 5.451128769377663e-05,\n",
       "  '*finance*': -0.008765168151571271,\n",
       "  'info tech': 0.0011986799838965187,\n",
       "  'communication': -0.0007069592834604466,\n",
       "  'public': 0.006060845159028445,\n",
       "  '*estate*': -0.01881124867765544}}"
      ]
     },
     "execution_count": 115,
     "metadata": {},
     "output_type": "execute_result"
    }
   ],
   "source": [
    "sec_sim_buy = []\n",
    "\n",
    "for i in sec_index:\n",
    "    temp = []\n",
    "    for j in i:\n",
    "        temp.append(name_bert_buy[j])\n",
    "    sec_sim_buy.append(temp)\n",
    "sec_sim_buy_res = []\n",
    "for i in range(len(sec_sim_buy)):\n",
    "    for j in range(len(sec_sim_buy)):\n",
    "        sec_sim_buy_res.append(rp.ttest(pd.Series(sec_sim_buy[i]),pd.Series(sec_sim_buy[j]),equal_variances= False)[1].iloc[6,1])\n",
    "\n",
    "square_sim_buy = np.reshape(sec_sim_buy_res, (11,11))\n",
    "\n",
    "fig, ax = plt.subplots()\n",
    "cmap = colors.ListedColormap([\"navy\", \"royalblue\", \"lightsteelblue\", \n",
    "                              \"beige\", \"peachpuff\", \"salmon\", \"darkred\"])\n",
    "cmap = matplotlib.cm.coolwarm\n",
    "im = ax.imshow(square_sim_buy,cmap=cmap)\n",
    "ax.set_xticks(np.arange(len(sec_map)))\n",
    "ax.set_yticks(np.arange(len(sec_map)))\n",
    "ax.set_xticklabels(sec_map)\n",
    "ax.set_yticklabels(sec_map)\n",
    "plt.setp(ax.get_xticklabels(), rotation=45, ha=\"right\",\n",
    "         rotation_mode=\"anchor\")\n",
    "plt.colorbar(im)\n",
    "ax.set_title(\"\")\n",
    "fig.tight_layout()\n",
    "plt.show()\n",
    "\n",
    "get_bias(name_bert_p)"
   ]
  },
  {
   "cell_type": "code",
   "execution_count": 116,
   "id": "ready-synthesis",
   "metadata": {},
   "outputs": [
    {
     "data": {
      "image/png": "[encoded data removed]",
      "text/plain": [
       "<Figure size 432x288 with 2 Axes>"
      ]
     },
     "metadata": {
      "needs_background": "light"
     },
     "output_type": "display_data"
    },
    {
     "data": {
      "text/plain": [
       "{'buy': {'energy': 0.0071992247907051755,\n",
       "  '*material*': 0.010938970782456807,\n",
       "  'industrial': 0.004017178879305759,\n",
       "  '*non-consumer*': -0.00942544216303718,\n",
       "  'necessities': -0.00297783049527747,\n",
       "  'health': 0.001016616197043385,\n",
       "  '*finance*': -0.008257378164326345,\n",
       "  '*info tech*': 0.007031993178473249,\n",
       "  '*communication*': -0.009820001067976796,\n",
       "  '*public*': 0.013463445085416626,\n",
       "  'estate': 0.0007286563317389453}}"
      ]
     },
     "execution_count": 116,
     "metadata": {},
     "output_type": "execute_result"
    }
   ],
   "source": [
    "sec_sim_buy = []\n",
    "\n",
    "for i in sec_index:\n",
    "    temp = []\n",
    "    for j in i:\n",
    "        temp.append(name_fin_buy[j])\n",
    "    sec_sim_buy.append(temp)\n",
    "sec_sim_buy_res = []\n",
    "for i in range(len(sec_sim_buy)):\n",
    "    for j in range(len(sec_sim_buy)):\n",
    "        sec_sim_buy_res.append(rp.ttest(pd.Series(sec_sim_buy[i]),pd.Series(sec_sim_buy[j]),equal_variances= False)[1].iloc[6,1])\n",
    "\n",
    "square_sim_buy = np.reshape(sec_sim_buy_res, (11,11))\n",
    "\n",
    "fig, ax = plt.subplots()\n",
    "cmap = colors.ListedColormap([\"navy\", \"royalblue\", \"lightsteelblue\", \n",
    "                              \"beige\", \"peachpuff\", \"salmon\", \"darkred\"])\n",
    "cmap = matplotlib.cm.coolwarm\n",
    "im = ax.imshow(square_sim_buy,cmap=cmap)\n",
    "# im = ax.imshow(square_sim_buy,cmap=cm.Reds)\n",
    "# ax = sns.heatmap(square_sim_buy)\n",
    "# We want to show all ticks...\n",
    "ax.set_xticks(np.arange(len(sec_map)))\n",
    "ax.set_yticks(np.arange(len(sec_map)))\n",
    "# ... and label them with the respective list entries\n",
    "ax.set_xticklabels(sec_map)\n",
    "ax.set_yticklabels(sec_map)\n",
    "\n",
    "# Rotate the tick labels and set their alignment.\n",
    "plt.setp(ax.get_xticklabels(), rotation=45, ha=\"right\",\n",
    "         rotation_mode=\"anchor\")\n",
    "plt.colorbar(im)\n",
    "# plt.title(f\"Heat Map of Cross Industry \\np-value \\nby their effect-size with Name and FinBert\")\n",
    "fig.tight_layout()\n",
    "plt.show()\n",
    "\n",
    "get_bias(name_fin_p)"
   ]
  },
  {
   "cell_type": "markdown",
   "id": "dynamic-habitat",
   "metadata": {},
   "source": [
    "## SEAT"
   ]
  },
  {
   "cell_type": "code",
   "execution_count": 124,
   "id": "organized-heart",
   "metadata": {},
   "outputs": [
    {
     "name": "stderr",
     "output_type": "stream",
     "text": [
      "100%|██████████| 2650/2650 [09:42<00:00,  4.55it/s]\n"
     ]
    }
   ],
   "source": [
    "def bert_text_preparation(text, tokenizer):\n",
    "    marked_text = \"[CLS] \" + text + \" [SEP]\"\n",
    "    tokenized_text = tokenizer.tokenize(marked_text)\n",
    "    indexed_tokens = tokenizer.convert_tokens_to_ids(tokenized_text)\n",
    "    segments_ids = [1]*len(indexed_tokens)\n",
    "    tokens_tensor = torch.tensor([indexed_tokens])\n",
    "    segments_tensors = torch.tensor([segments_ids])\n",
    "\n",
    "    return tokenized_text, tokens_tensor, segments_tensors\n",
    "\n",
    "def get_bert_embeddings(tokens_tensor, segments_tensors, model):\n",
    "    with torch.no_grad():\n",
    "        outputs = model(tokens_tensor, segments_tensors)\n",
    "        hidden_states = outputs[1][1:]\n",
    "    token_embeddings = hidden_states[-1]\n",
    "    token_embeddings = torch.squeeze(token_embeddings, dim=0)\n",
    "    list_token_embeddings = [token_embed.tolist() for token_embed in token_embeddings]\n",
    "\n",
    "    return list_token_embeddings\n",
    "\n",
    "def get_embed(text , model , tokenizer):\n",
    "    tokenized_text, tokens_tensor, segments_tensors = bert_text_preparation(text, tokenizer)\n",
    "    list_token_embeddings = get_bert_embeddings(tokens_tensor, segments_tensors, model)\n",
    "\n",
    "    # Find the position 'bank' in list of tokens\n",
    "    #     word_index = tokenized_text.index('Buy')\n",
    "    # Get the embedding for bank\n",
    "    word_embedding = list_token_embeddings[:]\n",
    "    return word_embedding[0]\n",
    "\n",
    "\n",
    "def seat(sen ,model, tokenizer):\n",
    "    one = get_embed(sen[0] , model ,tokenizer)\n",
    "    two = get_embed(sen[1] , model, tokenizer)\n",
    "    return 1- cosine(one,two)\n",
    "\n",
    "seat_sim_bert = []\n",
    "seat_sim_fin = []\n",
    "seat_sim_bert_sell=[]\n",
    "seat_sim_fin_sell = []\n",
    "for i in tqdm(name):\n",
    "    sen1 = f'{i} is a stock.'\n",
    "    sen2 = \"We should buy the stock.\"\n",
    "    sen3 = \"We should sell the stock.\"\n",
    "    seat_sim_bert.append(seat([sen1,sen2],bert_model, bert_tokenizer))\n",
    "    seat_sim_fin.append(seat([sen1,sen2],fin_model, fin_tokenizer))\n",
    "    seat_sim_bert_sell.append(seat([sen1,sen3],bert_model, bert_tokenizer))\n",
    "    seat_sim_fin_sell.append(seat([sen1,sen3],fin_model, fin_tokenizer))"
   ]
  },
  {
   "cell_type": "code",
   "execution_count": 131,
   "id": "sixth-treatment",
   "metadata": {},
   "outputs": [
    {
     "name": "stdout",
     "output_type": "stream",
     "text": [
      "energy Cohen's d:  -0.5564\n",
      "material Cohen's d:  -0.1469\n",
      "industrial Cohen's d:  0.1854\n",
      "non-consumer Cohen's d:  0.2549\n",
      "necessities Cohen's d:  -0.0788\n",
      "health Cohen's d:  0.055\n",
      "finance Cohen's d:  -0.6534\n",
      "info tech Cohen's d:  0.4433\n",
      "communication Cohen's d:  0.1044\n",
      "public Cohen's d:  -0.1904\n",
      "estate Cohen's d:  0.0004\n"
     ]
    }
   ],
   "source": [
    "### used for seat in main paper cohen's d\n",
    "for i , vec in enumerate(sector_vec):\n",
    "    X = []\n",
    "    NotX = []\n",
    "    for j , el in enumerate(vec):\n",
    "        if el == 1:\n",
    "            X.append(seat_sim_bert[j])\n",
    "        else:\n",
    "            NotX.append(seat_sim_bert_sell[j])\n",
    "    p = stats.ttest_ind(a=X, b=NotX, equal_var=False)\n",
    "    p1 = rp.ttest(pd.Series(X),pd.Series(NotX),equal_variances= False)[1]\n",
    "    print(sec_map[i], \"Cohen's d: \" , p1.iloc[6,1])"
   ]
  }
 ],
 "metadata": {
  "kernelspec": {
   "display_name": "kernel_matthew",
   "language": "python",
   "name": "python3"
  },
  "language_info": {
   "codemirror_mode": {
    "name": "ipython",
    "version": 3
   },
   "file_extension": ".py",
   "mimetype": "text/x-python",
   "name": "python",
   "nbconvert_exporter": "python",
   "pygments_lexer": "ipython3",
   "version": "3.8.11"
  }
 },
 "nbformat": 4,
 "nbformat_minor": 5
}
